{
 "cells": [
  {
   "cell_type": "markdown",
   "metadata": {},
   "source": [
    "## Algorithms Assignment"
   ]
  },
  {
   "cell_type": "markdown",
   "metadata": {},
   "source": [
    "### Import Libraries\n",
    "In order to run the Python code in this notebook it is necessary to import a number of Python modules."
   ]
  },
  {
   "cell_type": "code",
   "execution_count": 1,
   "metadata": {},
   "outputs": [],
   "source": [
    "# import libraries to generate random data\n",
    "import numpy as np\n",
    "from random import randint\n",
    "# import plotting library to create graphs\n",
    "import matplotlib.pyplot as plt\n",
    "# import time module to record the running time of the algorithms\n",
    "import time"
   ]
  },
  {
   "cell_type": "markdown",
   "metadata": {},
   "source": [
    "### Question 1\n",
    "Implement functions called mergeSort, quickSort and bubbleSort, each of which takes as an input a list of numbers and returns the list with elements sorted."
   ]
  },
  {
   "cell_type": "markdown",
   "metadata": {},
   "source": [
    "### Bubble Sort\n",
    "Bubble sort is a simple comparison based sorting algorithm that was first analysed in 1956. The time complexity of this algorithm is O(n^2) in the worst and average case and O(n) in the best case, where n is the number of items being sorted. The algorithm only runs in the best case if the array is already sorted. It is a stable sort with a space complexity of O(1).\n",
    "\n",
    "The Bubble sort algorithm compares each pair of elements in the array and swaps them if they are out of order. This compare and swap is carried out for every pair of elements in the array until all the elements in the array are sorted.\n",
    "\n",
    "This algorithm is easy to implement and in the bubble sort, elements are swapped in place without using additional temporary storage, so the space requirement is at a minimum. However it is very slow for larger and reverse order arrays as it requires n squared processing steps for every n number of elements to be sorted."
   ]
  },
  {
   "cell_type": "code",
   "execution_count": 2,
   "metadata": {},
   "outputs": [
    {
     "name": "stdout",
     "output_type": "stream",
     "text": [
      "[16, 19, 25, 30, 43, 53, 54, 66, 90]\n",
      "2.002\n"
     ]
    }
   ],
   "source": [
    "# log start time\n",
    "start = time.time()\n",
    "\n",
    "# define a bubbleSort function with arguement a\n",
    "def bubbleSort(a):\n",
    "    # create outer loop where len(a) is number of items in the list\n",
    "    for i in range(0, len(a) -1):\n",
    "        # create inner loop where len(a) is number of items in the list\n",
    "        for j in range(0, len(a) -1 -i):\n",
    "            # compare item with item on its right - if item on left is greater then swap\n",
    "            if a[j]>a[j+1]:\n",
    "                a[j], a[j+1] = a[j+1], a[j]\n",
    "    return a\n",
    "                    \n",
    "                \n",
    "# create an array of integers\n",
    "a =[53, 25, 90, 16, 66, 30, 43, 54, 19]\n",
    "\n",
    "# call the bubbleSort function with list of integers\n",
    "bubbleSort(a)\n",
    "    \n",
    "# print sorted array of integers\n",
    "print(a)\n",
    "\n",
    "# end time\n",
    "end = time.time()\n",
    "\n",
    "# time elapsed in milliseconds and formatted to 3 decimal places (end time minus start time)\n",
    "timeElapsed = format((end - start)*1000, '.3f')\n",
    "\n",
    "# print elapsed time\n",
    "print(timeElapsed)"
   ]
  },
  {
   "cell_type": "markdown",
   "metadata": {},
   "source": [
    "### Merge Sort\n",
    "Merge sort is an efficient comparison based algorithm that has two steps - merging and sorting. The algorithm uses a divide and conquer approach to merge and sort the input array. This technique splits the input array into two halves, both arrays are then sorted using Merge sort and finally the two sorted arrays are combined together.\n",
    "\n",
    "The time complexity of this algorithm is O(nlogn) in the worst, average and best case, where n is the number of items being sorted. This means that no matter how the input array is sorted in the first instance the time complexity will always operate in O(nlogn) time.\n",
    "\n",
    "Merge sort is a stable sort with a space complexity of O(n). It is not as space-efficient as bubble sort, selection sort or insertion sort."
   ]
  },
  {
   "cell_type": "code",
   "execution_count": 3,
   "metadata": {},
   "outputs": [
    {
     "name": "stdout",
     "output_type": "stream",
     "text": [
      "[16, 19, 25, 30, 43, 53, 54, 66, 90]\n",
      "2.006\n"
     ]
    }
   ],
   "source": [
    "# start time\n",
    "start = time.time()\n",
    "\n",
    "# define mergeSort function with arguement a\n",
    "def mergeSort(a):\n",
    "    # if the length of the array is greater than 1 split the array into two halves\n",
    "    if len(a)>1:\n",
    "        # find the mid point of the array\n",
    "        mid = len(a)//2\n",
    "        # divide the array elements into two halves\n",
    "        lefthalf = a[:mid]\n",
    "        righthalf = a[mid:]\n",
    "        # sort both arrays using mergeSort\n",
    "        mergeSort(lefthalf)\n",
    "        mergeSort(righthalf)\n",
    "\n",
    "        i=0\n",
    "        j=0\n",
    "        k=0\n",
    "        # copy data to temporary arrays\n",
    "        while i < len(lefthalf) and j < len(righthalf):\n",
    "            if lefthalf[i] < righthalf[j]:\n",
    "                a[k]=lefthalf[i]\n",
    "                i=i+1\n",
    "            else:\n",
    "                a[k]=righthalf[j]\n",
    "                j=j+1\n",
    "            k=k+1\n",
    "        # check if any elements left in arrays\n",
    "        while i < len(lefthalf):\n",
    "            a[k]=lefthalf[i]\n",
    "            i=i+1\n",
    "            k=k+1\n",
    "\n",
    "        while j < len(righthalf):\n",
    "            a[k]=righthalf[j]\n",
    "            j=j+1\n",
    "            k=k+1\n",
    "\n",
    "# create an array of integers        \n",
    "a =[53, 25, 90, 16, 66, 30, 43, 54, 19]\n",
    "\n",
    "# call the mergeSort function with a random array of integers\n",
    "mergeSort(a)\n",
    "\n",
    "# print sorted array of integers\n",
    "print(a)\n",
    "\n",
    "# end time\n",
    "end = time.time()\n",
    "\n",
    "# time elapsed in milliseconds and formatted to 3 decimal places (end time minus start time)\n",
    "timeElapsed = format((end - start)*1000, '.3f')\n",
    "\n",
    "# print elapsed time\n",
    "print(timeElapsed)"
   ]
  },
  {
   "cell_type": "markdown",
   "metadata": {},
   "source": [
    "### Quicksort\n",
    "\n",
    "NEED SOME TEXT HERE"
   ]
  },
  {
   "cell_type": "code",
   "execution_count": 4,
   "metadata": {},
   "outputs": [
    {
     "name": "stdout",
     "output_type": "stream",
     "text": [
      "[16, 19, 25, 30, 43, 53, 54, 66, 90]\n",
      "2.001\n"
     ]
    }
   ],
   "source": [
    "# start time\n",
    "start = time.time()\n",
    "\n",
    "# define quicksort function with arguement arr\n",
    "def quickSort(arr):\n",
    "    less = []\n",
    "    pivotList = []\n",
    "    more = []\n",
    "    if len(arr) <= 1:\n",
    "        return arr\n",
    "    else:\n",
    "        pivot = arr[0]\n",
    "        for i in arr:\n",
    "            if i < pivot:\n",
    "                less.append(i)\n",
    "            elif i > pivot:\n",
    "                more.append(i)\n",
    "            else:\n",
    "                pivotList.append(i)\n",
    "        less = quickSort(less)\n",
    "        more = quickSort(more)\n",
    "        return less + pivotList + more\n",
    "    \n",
    "# create a list of integers       \n",
    "a =[53, 25, 90, 16, 66, 30, 43, 54, 19]\n",
    "\n",
    "# call the quicksort function with list of integers\n",
    "quickSort(a)\n",
    "\n",
    "# print sorted list of integers\n",
    "a = print(quickSort(a))\n",
    "\n",
    "# end time\n",
    "end = time.time()\n",
    "\n",
    "# time elapsed in milliseconds and formatted to 3 decimal places (end time minus start time)\n",
    "timeElapsed = format((end - start)*1000, '.3f')\n",
    "\n",
    "# print elapsed time\n",
    "print(timeElapsed)"
   ]
  },
  {
   "cell_type": "markdown",
   "metadata": {},
   "source": [
    "### Question 2"
   ]
  },
  {
   "cell_type": "code",
   "execution_count": null,
   "metadata": {},
   "outputs": [],
   "source": []
  },
  {
   "cell_type": "markdown",
   "metadata": {},
   "source": [
    "### Question 3\n",
    "Explore the behaviour of the three sorting algorithms with an already sorted list for n = 500,1000,1500,2000,2500."
   ]
  },
  {
   "cell_type": "code",
   "execution_count": 30,
   "metadata": {},
   "outputs": [
    {
     "name": "stdout",
     "output_type": "stream",
     "text": [
      "n       BubbleSort       MergeSort          QuickSort\n",
      "___________________________________________________________________________________\n",
      "500   \t18.104   \t2.651   \t23.006\n",
      "1000   \t76.669   \t5.852   \t74.269\n",
      "1500   \t175.944   \t9.852   \t167.492\n",
      "2000   \t315.780   \t12.503   \t240.261\n",
      "2500   \t380.696   \t12.503   \t373.694\n"
     ]
    },
    {
     "data": {
      "image/png": "[encoded data removed]",
      "text/plain": [
       "<Figure size 432x288 with 1 Axes>"
      ]
     },
     "metadata": {
      "needs_background": "light"
     },
     "output_type": "display_data"
    },
    {
     "data": {
      "image/png": "[encoded data removed]",
      "text/plain": [
       "<Figure size 432x288 with 1 Axes>"
      ]
     },
     "metadata": {
      "needs_background": "light"
     },
     "output_type": "display_data"
    },
    {
     "data": {
      "image/png": "[encoded data removed]",
      "text/plain": [
       "<Figure size 432x288 with 1 Axes>"
      ]
     },
     "metadata": {
      "needs_background": "light"
     },
     "output_type": "display_data"
    }
   ],
   "source": [
    "# define a randomArray function with 10 elements with a range of 0 to 49\n",
    "def randomArray(size=10,max=50):\n",
    "            from random import randint\n",
    "            return sorted([randint(0,max) for _ in range(size)])\n",
    "        \n",
    "# define a bubbleSort function with arguement a\n",
    "def bubbleSort(a):\n",
    "    # create outer for loop where len(a) is number of items in the list\n",
    "    for i in range(0, len(a) -1):\n",
    "        # create inner for loop where len(a) is number of items in the list\n",
    "        for j in range(0, len(a) -1 -i):\n",
    "            # compare item with item on its right - if item on left is greater then swap\n",
    "            if a[j]>a[j+1]:\n",
    "                a[j], a[j+1] = a[j+1], a[j]\n",
    "    return a\n",
    "\n",
    "# define mergeSort function with arguement a\n",
    "def mergeSort(a):\n",
    "    # if the length of the array is greater than 1 split the array into two halves\n",
    "    if len(a)>1:\n",
    "        # find the mid point of the array\n",
    "        mid = len(a)//2\n",
    "        # divide the array elements into two halves\n",
    "        lefthalf = a[:mid]\n",
    "        righthalf = a[mid:]\n",
    "        # sort both arrays using mergeSort\n",
    "        mergeSort(lefthalf)\n",
    "        mergeSort(righthalf)\n",
    "\n",
    "        i=0\n",
    "        j=0\n",
    "        k=0\n",
    "        # copy data to temporary arrays\n",
    "        while i < len(lefthalf) and j < len(righthalf):\n",
    "            if lefthalf[i] < righthalf[j]:\n",
    "                a[k]=lefthalf[i]\n",
    "                i=i+1\n",
    "            else:\n",
    "                a[k]=righthalf[j]\n",
    "                j=j+1\n",
    "            k=k+1\n",
    "        # check if any elements left in arrays\n",
    "        while i < len(lefthalf):\n",
    "            a[k]=lefthalf[i]\n",
    "            i=i+1\n",
    "            k=k+1\n",
    "        while j < len(righthalf):\n",
    "            a[k]=righthalf[j]\n",
    "            j=j+1\n",
    "            k=k+1\n",
    "            \n",
    "# define quicksort function with arguement arr\n",
    "def quickSort(arr):\n",
    "    less = []\n",
    "    pivotList = []\n",
    "    more = []\n",
    "    if len(arr) <= 1:\n",
    "        return arr\n",
    "    else:\n",
    "        pivot = arr[0]\n",
    "        for i in arr:\n",
    "            if i < pivot:\n",
    "                less.append(i)\n",
    "            elif i > pivot:\n",
    "                more.append(i)\n",
    "            else:\n",
    "                pivotList.append(i)\n",
    "        less = quickSort(less)\n",
    "        more = quickSort(more)\n",
    "        return less + pivotList + more\n",
    "    \n",
    "# create empty arrays to store the times for each value of n\n",
    "bubbleTimes = [] # bubble sort times\n",
    "mergeTimes = [] # merge sort times\n",
    "quickTimes = [] # quicksort times\n",
    "\n",
    "\n",
    "# define a function with arguement myArray which calculates the average\n",
    "def calculateAverageForArray (myArray):\n",
    "    return sum(myArray)/len(myArray)\n",
    "\n",
    "# define a function with arguements myArray and numRuns\n",
    "def bubbleSortWithParameter (myArray,numRuns):\n",
    "    bubbleTimes=[]\n",
    "    for r in range(numRuns):\n",
    "        t0=(time()) # start time\n",
    "        s=bubbleSort(myArray) # call bubbleSort function\n",
    "        t1=(time()) # end time\n",
    "        bubbleTimes.append(t1-t0) # append the elapsed time to each value of n\n",
    "    \n",
    "    averageTime= (calculateAverageForArray(bubbleTimes))*1000\n",
    "    return averageTime\n",
    "\n",
    "# define a function with arguements myArray and numRuns\n",
    "def mergeSortWithParameter (myArray, numRuns):\n",
    "    mergeTimes=[]\n",
    "    for r in range(numRuns):\n",
    "        t0=(time()) # start time\n",
    "        s=mergeSort(myArray) # call mergeSort function\n",
    "        t1=(time()) # end time\n",
    "        mergeTimes.append(t1-t0) # append the elapsed time to each value of n\n",
    "\n",
    "    averageTime= (calculateAverageForArray(mergeTimes))*1000\n",
    "    return averageTime\n",
    "\n",
    "# define a function with arguements myArray and numRuns\n",
    "def quickSortWithParameter (myArray, numRuns):\n",
    "    quickTimes=[]\n",
    "    for r in range(numRuns):\n",
    "        t0=(time()) # start time\n",
    "        s=quickSort(myArray) # call mergeSort function\n",
    "        t1=(time()) # end time\n",
    "        quickTimes.append(t1-t0) # append the elapsed time to each value of n\n",
    "\n",
    "    averageTime= (calculateAverageForArray(quickTimes))*1000\n",
    "    return averageTime\n",
    "\n",
    "# Main method for benchmarking sorting algorithms   \n",
    "# import time\n",
    "from time import time\n",
    "\n",
    "# create an array n with varying input sizes to benchmark the 3 algorithms\n",
    "n = [500, 1000, 1500, 2000, 2500]\n",
    "\n",
    "# create a for loop to iterate over each value of n for each sorting algorithm and record the time taken to sort the array\n",
    "for currentLengthOfArray in n:\n",
    "    myCurrentArray=randomArray(currentLengthOfArray, currentLengthOfArray)\n",
    "    \n",
    "    # set variable targetNumberOfRuns to 20 (number of runtimes)\n",
    "    targetNumberOfRuns = 20\n",
    "    \n",
    "    # append average times to each input size\n",
    "    bubbleTimes.append(bubbleSortWithParameter(myCurrentArray, targetNumberOfRuns))\n",
    "    mergeTimes.append(mergeSortWithParameter(myCurrentArray, targetNumberOfRuns))\n",
    "    quickTimes.append(quickSortWithParameter(myCurrentArray, targetNumberOfRuns))\n",
    "    \n",
    "# create a table of results with headers n, BubbleSort, MergeSort and QuickSort\n",
    "print(\"n       BubbleSort       MergeSort          QuickSort\")\n",
    "print(\"___________________________________________________________________________________\")\n",
    "# for every value for time enumerate to corresponding value for n\n",
    "for i, cur_n in enumerate(n):\n",
    "    # print running times to 3 decimal places\n",
    "    print(\"%d   \\t%0.3f   \\t%0.3f   \\t%0.3f\"%(cur_n, bubbleTimes[i], mergeTimes[i], quickTimes[i]))\n",
    "    \n",
    "# import graphing library\n",
    "import matplotlib.pyplot as plt\n",
    "# jupyter magic command for matplotlib\n",
    "%matplotlib inline\n",
    "\n",
    "# plot runtime for each algorithm and input value\n",
    "plt.plot(n, bubbleTimes, 'bo', label=\"Bubble Sort\")\n",
    "\n",
    "# create legend, y label, x label and show the graph\n",
    "plt.legend(loc='upper center', shadow=True).get_frame().set_facecolor('0.90')\n",
    "plt.ylabel('average runtime in milliseconds')\n",
    "plt.xlabel('n - size of input')\n",
    "plt.show()\n",
    "\n",
    "plt.plot(n, mergeTimes, 'bo', label=\"Merge Sort\")\n",
    "\n",
    "# create legend, y label, x label and show the graph\n",
    "plt.legend(loc='upper center', shadow=True).get_frame().set_facecolor('0.90')\n",
    "plt.ylabel('average runtime in milliseconds')\n",
    "plt.xlabel('n - size of input')\n",
    "plt.show()\n",
    "\n",
    "plt.plot(n, quickTimes, 'bo', label=\"QuickSort\")\n",
    "\n",
    "# create legend, y label, x label and show the graph\n",
    "plt.legend(loc='upper center', shadow=True).get_frame().set_facecolor('0.90')\n",
    "plt.ylabel('average runtime in milliseconds')\n",
    "plt.xlabel('n - size of input')\n",
    "plt.show()"
   ]
  },
  {
   "cell_type": "markdown",
   "metadata": {},
   "source": [
    "As well as the size n of the input, the actual order of the input data, can also influence the running time of the sorting algorithm. In the example above, where the input elements are already sorted, demonstrates Best case time complexity – the algorithm exhibits its best running time."
   ]
  },
  {
   "cell_type": "markdown",
   "metadata": {},
   "source": [
    "### Question 4\n",
    "Explore the behaviour of the three sorting algorithms with an already sorted list in descending order for n = 500,1000,1500,2000,2500."
   ]
  },
  {
   "cell_type": "code",
   "execution_count": 33,
   "metadata": {},
   "outputs": [
    {
     "name": "stdout",
     "output_type": "stream",
     "text": [
      "n       BubbleSort       MergeSort          QuickSort\n",
      "___________________________________________________________________________________\n",
      "500   \t20.605   \t2.651   \t19.055\n",
      "1000   \t94.374   \t6.952   \t87.872\n",
      "1500   \t193.749   \t9.052   \t160.741\n",
      "2000   \t356.240   \t12.803   \t228.608\n",
      "2500   \t420.656   \t12.803   \t362.191\n"
     ]
    },
    {
     "data": {
      "image/png": "[encoded data removed]",
      "text/plain": [
       "<Figure size 432x288 with 1 Axes>"
      ]
     },
     "metadata": {
      "needs_background": "light"
     },
     "output_type": "display_data"
    },
    {
     "data": {
      "image/png": "[encoded data removed]",
      "text/plain": [
       "<Figure size 432x288 with 1 Axes>"
      ]
     },
     "metadata": {
      "needs_background": "light"
     },
     "output_type": "display_data"
    },
    {
     "data": {
      "image/png": "[encoded data removed]",
      "text/plain": [
       "<Figure size 432x288 with 1 Axes>"
      ]
     },
     "metadata": {
      "needs_background": "light"
     },
     "output_type": "display_data"
    }
   ],
   "source": [
    "def randomArray(size=10,max=50):\n",
    "            from random import randint\n",
    "            return sorted([randint(0,max) for _ in range(size)], reverse=True)\n",
    "        \n",
    "# define a bubbleSort function with arguement a\n",
    "def bubbleSort(a):\n",
    "    # create outer for loop where len(a) is number of items in the list\n",
    "    for i in range(0, len(a) -1):\n",
    "        # create inner for loop where len(a) is number of items in the list\n",
    "        for j in range(0, len(a) -1 -i):\n",
    "            # compare item with item on its right - if item on left is greater then swap\n",
    "            if a[j]>a[j+1]:\n",
    "                a[j], a[j+1] = a[j+1], a[j]\n",
    "    return a\n",
    "\n",
    "# define mergeSort function with arguement a\n",
    "def mergeSort(a):\n",
    "    # if the length of the array is greater than 1 split the array into two halves\n",
    "    if len(a)>1:\n",
    "        # find the mid point of the array\n",
    "        mid = len(a)//2\n",
    "        # divide the array elements into two halves\n",
    "        lefthalf = a[:mid]\n",
    "        righthalf = a[mid:]\n",
    "        # sort both arrays using mergeSort\n",
    "        mergeSort(lefthalf)\n",
    "        mergeSort(righthalf)\n",
    "\n",
    "        i=0\n",
    "        j=0\n",
    "        k=0\n",
    "        # copy data to temporary arrays\n",
    "        while i < len(lefthalf) and j < len(righthalf):\n",
    "            if lefthalf[i] < righthalf[j]:\n",
    "                a[k]=lefthalf[i]\n",
    "                i=i+1\n",
    "            else:\n",
    "                a[k]=righthalf[j]\n",
    "                j=j+1\n",
    "            k=k+1\n",
    "        # check if any elements left in arrays\n",
    "        while i < len(lefthalf):\n",
    "            a[k]=lefthalf[i]\n",
    "            i=i+1\n",
    "            k=k+1\n",
    "        while j < len(righthalf):\n",
    "            a[k]=righthalf[j]\n",
    "            j=j+1\n",
    "            k=k+1\n",
    "            \n",
    "# define quicksort function with arguement arr\n",
    "def quickSort(arr):\n",
    "    less = []\n",
    "    pivotList = []\n",
    "    more = []\n",
    "    if len(arr) <= 1:\n",
    "        return arr\n",
    "    else:\n",
    "        pivot = arr[0]\n",
    "        for i in arr:\n",
    "            if i < pivot:\n",
    "                less.append(i)\n",
    "            elif i > pivot:\n",
    "                more.append(i)\n",
    "            else:\n",
    "                pivotList.append(i)\n",
    "        less = quickSort(less)\n",
    "        more = quickSort(more)\n",
    "        return less + pivotList + more\n",
    "    \n",
    "# create empty arrays to store the times for each value of n\n",
    "bubbleTimes = [] # bubble sort times\n",
    "mergeTimes = [] # merge sort times\n",
    "quickTimes = [] # quicksort times\n",
    "\n",
    "\n",
    "# define a function with arguement myArray which calculates the average\n",
    "def calculateAverageForArray (myArray):\n",
    "    return sum(myArray)/len(myArray)\n",
    "\n",
    "# define a function with arguements myArray and numRuns\n",
    "def bubbleSortWithParameter (myArray,numRuns):\n",
    "    bubbleTimes=[]\n",
    "    for r in range(numRuns):\n",
    "        t0=(time()) # start time\n",
    "        s=bubbleSort(myArray) # call bubbleSort function\n",
    "        t1=(time()) # end time\n",
    "        bubbleTimes.append(t1-t0) # append the elapsed time to each value of n\n",
    "    \n",
    "    averageTime= (calculateAverageForArray(bubbleTimes))*1000\n",
    "    return averageTime\n",
    "\n",
    "# define a function with arguements myArray and numRuns\n",
    "def mergeSortWithParameter (myArray, numRuns):\n",
    "    mergeTimes=[]\n",
    "    for r in range(numRuns):\n",
    "        t0=(time()) # start time\n",
    "        s=mergeSort(myArray) # call mergeSort function\n",
    "        t1=(time()) # end time\n",
    "        mergeTimes.append(t1-t0) # append the elapsed time to each value of n\n",
    "\n",
    "    averageTime= (calculateAverageForArray(mergeTimes))*1000\n",
    "    return averageTime\n",
    "\n",
    "# define a function with arguements myArray and numRuns\n",
    "def quickSortWithParameter (myArray, numRuns):\n",
    "    quickTimes=[]\n",
    "    for r in range(numRuns):\n",
    "        t0=(time()) # start time\n",
    "        s=quickSort(myArray) # call mergeSort function\n",
    "        t1=(time()) # end time\n",
    "        quickTimes.append(t1-t0) # append the elapsed time to each value of n\n",
    "\n",
    "    averageTime= (calculateAverageForArray(quickTimes))*1000\n",
    "    return averageTime\n",
    "\n",
    "# Main method for benchmarking sorting algorithms   \n",
    "# import time\n",
    "from time import time\n",
    "\n",
    "# create an array n with varying input sizes to benchmark the 3 algorithms\n",
    "n = [500, 1000, 1500, 2000, 2500]\n",
    "\n",
    "# create a for loop to iterate over each value of n for each sorting algorithm and record the time taken to sort the array\n",
    "for currentLengthOfArray in n:\n",
    "    myCurrentArray=randomArray(currentLengthOfArray, currentLengthOfArray)\n",
    "    \n",
    "    # set variable targetNumberOfRuns to 20 (number of runtimes)\n",
    "    targetNumberOfRuns = 20\n",
    "    \n",
    "    # append average times to each input size\n",
    "    bubbleTimes.append(bubbleSortWithParameter(myCurrentArray, targetNumberOfRuns))\n",
    "    mergeTimes.append(mergeSortWithParameter(myCurrentArray, targetNumberOfRuns))\n",
    "    quickTimes.append(quickSortWithParameter(myCurrentArray, targetNumberOfRuns))\n",
    "    \n",
    "# create a table of results with headers n, BubbleSort, MergeSort and QuickSort\n",
    "print(\"n       BubbleSort       MergeSort          QuickSort\")\n",
    "print(\"___________________________________________________________________________________\")\n",
    "# for every value for time enumerate to corresponding value for n\n",
    "for i, cur_n in enumerate(n):\n",
    "    # print running times to 3 decimal places\n",
    "    print(\"%d   \\t%0.3f   \\t%0.3f   \\t%0.3f\"%(cur_n, bubbleTimes[i], mergeTimes[i], quickTimes[i]))\n",
    "    \n",
    "# import graphing library\n",
    "import matplotlib.pyplot as plt\n",
    "# jupyter magic command for matplotlib\n",
    "%matplotlib inline\n",
    "\n",
    "# plot runtime for each algorithm and input value\n",
    "plt.plot(n, bubbleTimes, 'bo', label=\"Bubble Sort\")\n",
    "\n",
    "# create legend, y label, x label and show the graph\n",
    "plt.legend(loc='upper center', shadow=True).get_frame().set_facecolor('0.90')\n",
    "plt.ylabel('average runtime in milliseconds')\n",
    "plt.xlabel('n - size of input')\n",
    "plt.show()\n",
    "\n",
    "plt.plot(n, mergeTimes, 'bo', label=\"Merge Sort\")\n",
    "\n",
    "# create legend, y label, x label and show the graph\n",
    "plt.legend(loc='upper center', shadow=True).get_frame().set_facecolor('0.90')\n",
    "plt.ylabel('average runtime in milliseconds')\n",
    "plt.xlabel('n - size of input')\n",
    "plt.show()\n",
    "\n",
    "plt.plot(n, quickTimes, 'bo', label=\"QuickSort\")\n",
    "\n",
    "# create legend, y label, x label and show the graph\n",
    "plt.legend(loc='upper center', shadow=True).get_frame().set_facecolor('0.90')\n",
    "plt.ylabel('average runtime in milliseconds')\n",
    "plt.xlabel('n - size of input')\n",
    "plt.show()"
   ]
  },
  {
   "cell_type": "markdown",
   "metadata": {},
   "source": [
    "As well as the size n of the input, the actual order of the input data, can also influence the running time of the sorting algorithm. In the above example where the input elements are in reverse order, demonstrates the Worst case time complexity – where an algorithm exhibits its worst running time."
   ]
  },
  {
   "cell_type": "markdown",
   "metadata": {},
   "source": [
    "### Question 5\n",
    "Explore the behaviour of the three sorting algorithms with random inputs for n = 500,1000,1500,2000,2500."
   ]
  },
  {
   "cell_type": "code",
   "execution_count": 19,
   "metadata": {},
   "outputs": [
    {
     "name": "stdout",
     "output_type": "stream",
     "text": [
      "n       BubbleSort       MergeSort          QuickSort\n",
      "___________________________________________________________________________________\n",
      "500   \t20.255   \t2.701   \t19.205\n",
      "1000   \t79.970   \t5.751   \t77.820\n",
      "1500   \t184.496   \t9.152   \t162.791\n",
      "2000   \t330.183   \t12.553   \t222.306\n",
      "2500   \t388.248   \t12.603   \t364.142\n"
     ]
    },
    {
     "data": {
      "image/png": "[encoded data removed]",
      "text/plain": [
       "<Figure size 432x288 with 1 Axes>"
      ]
     },
     "metadata": {
      "needs_background": "light"
     },
     "output_type": "display_data"
    },
    {
     "data": {
      "image/png": "[encoded data removed]",
      "text/plain": [
       "<Figure size 432x288 with 1 Axes>"
      ]
     },
     "metadata": {
      "needs_background": "light"
     },
     "output_type": "display_data"
    },
    {
     "data": {
      "image/png": "[encoded data removed]",
      "text/plain": [
       "<Figure size 432x288 with 1 Axes>"
      ]
     },
     "metadata": {
      "needs_background": "light"
     },
     "output_type": "display_data"
    }
   ],
   "source": [
    "def randomArray(size=10,max=50):\n",
    "            from random import randint\n",
    "            return [randint(0,max) for _ in range(size)]\n",
    "\n",
    "# define a bubbleSort function with arguement a\n",
    "def bubbleSort(a):\n",
    "    # create outer for loop where len(a) is number of items in the list\n",
    "    for i in range(0, len(a) -1):\n",
    "        # create inner for loop where len(a) is number of items in the list\n",
    "        for j in range(0, len(a) -1 -i):\n",
    "            # compare item with item on its right - if item on left is greater then swap\n",
    "            if a[j]>a[j+1]:\n",
    "                a[j], a[j+1] = a[j+1], a[j]\n",
    "    return a\n",
    "\n",
    "# define mergeSort function with arguement a\n",
    "def mergeSort(a):\n",
    "    # if the length of the array is greater than 1 split the array into two halves\n",
    "    if len(a)>1:\n",
    "        # find the mid point of the array\n",
    "        mid = len(a)//2\n",
    "        # divide the array elements into two halves\n",
    "        lefthalf = a[:mid]\n",
    "        righthalf = a[mid:]\n",
    "        # sort both arrays using mergeSort\n",
    "        mergeSort(lefthalf)\n",
    "        mergeSort(righthalf)\n",
    "\n",
    "        i=0\n",
    "        j=0\n",
    "        k=0\n",
    "        # copy data to temporary arrays\n",
    "        while i < len(lefthalf) and j < len(righthalf):\n",
    "            if lefthalf[i] < righthalf[j]:\n",
    "                a[k]=lefthalf[i]\n",
    "                i=i+1\n",
    "            else:\n",
    "                a[k]=righthalf[j]\n",
    "                j=j+1\n",
    "            k=k+1\n",
    "        # check if any elements left in arrays\n",
    "        while i < len(lefthalf):\n",
    "            a[k]=lefthalf[i]\n",
    "            i=i+1\n",
    "            k=k+1\n",
    "        while j < len(righthalf):\n",
    "            a[k]=righthalf[j]\n",
    "            j=j+1\n",
    "            k=k+1\n",
    "            \n",
    "# define quicksort function with arguement arr\n",
    "def quickSort(arr):\n",
    "    less = []\n",
    "    pivotList = []\n",
    "    more = []\n",
    "    if len(arr) <= 1:\n",
    "        return arr\n",
    "    else:\n",
    "        pivot = arr[0]\n",
    "        for i in arr:\n",
    "            if i < pivot:\n",
    "                less.append(i)\n",
    "            elif i > pivot:\n",
    "                more.append(i)\n",
    "            else:\n",
    "                pivotList.append(i)\n",
    "        less = quickSort(less)\n",
    "        more = quickSort(more)\n",
    "        return less + pivotList + more\n",
    "    \n",
    "# create empty arrays to store the times for each value of n\n",
    "bubbleTimes = [] # bubble sort times\n",
    "mergeTimes = [] # merge sort times\n",
    "quickTimes = [] # quicksort times\n",
    "\n",
    "\n",
    "# define a function with arguement myArray which calculates the average\n",
    "def calculateAverageForArray (myArray):\n",
    "    return sum(myArray)/len(myArray)\n",
    "\n",
    "# define a function with arguements myArray and numRuns\n",
    "def bubbleSortWithParameter (myArray,numRuns):\n",
    "    bubbleTimes=[]\n",
    "    for r in range(numRuns):\n",
    "        t0=(time()) # start time\n",
    "        s=bubbleSort(myArray) # call bubbleSort function\n",
    "        t1=(time()) # end time\n",
    "        bubbleTimes.append(t1-t0) # append the elapsed time to each value of n\n",
    "    \n",
    "    averageTime= (calculateAverageForArray(bubbleTimes))*1000\n",
    "    return averageTime\n",
    "\n",
    "# define a function with arguements myArray and numRuns\n",
    "def mergeSortWithParameter (myArray, numRuns):\n",
    "    mergeTimes=[]\n",
    "    for r in range(numRuns):\n",
    "        t0=(time()) # start time\n",
    "        s=mergeSort(myArray) # call mergeSort function\n",
    "        t1=(time()) # end time\n",
    "        mergeTimes.append(t1-t0) # append the elapsed time to each value of n\n",
    "\n",
    "    averageTime= (calculateAverageForArray(mergeTimes))*1000\n",
    "    return averageTime\n",
    "\n",
    "# define a function with arguements myArray and numRuns\n",
    "def quickSortWithParameter (myArray, numRuns):\n",
    "    quickTimes=[]\n",
    "    for r in range(numRuns):\n",
    "        t0=(time()) # start time\n",
    "        s=quickSort(myArray) # call mergeSort function\n",
    "        t1=(time()) # end time\n",
    "        quickTimes.append(t1-t0) # append the elapsed time to each value of n\n",
    "\n",
    "    averageTime= (calculateAverageForArray(quickTimes))*1000\n",
    "    return averageTime\n",
    "\n",
    "# Main method for benchmarking sorting algorithms   \n",
    "# import time\n",
    "from time import time\n",
    "\n",
    "# create an array n with varying input sizes to benchmark the 3 algorithms\n",
    "n = [500, 1000, 1500, 2000, 2500]\n",
    "\n",
    "# create a for loop to iterate over each value of n for each sorting algorithm and record the time taken to sort the array\n",
    "for currentLengthOfArray in n:\n",
    "    myCurrentArray=randomArray(currentLengthOfArray, currentLengthOfArray)\n",
    "    \n",
    "    # set variable targetNumberOfRuns to 20 (number of runtimes)\n",
    "    targetNumberOfRuns = 20\n",
    "    \n",
    "    # append average times to each input size\n",
    "    bubbleTimes.append(bubbleSortWithParameter(myCurrentArray, targetNumberOfRuns))\n",
    "    mergeTimes.append(mergeSortWithParameter(myCurrentArray, targetNumberOfRuns))\n",
    "    quickTimes.append(quickSortWithParameter(myCurrentArray, targetNumberOfRuns))\n",
    "    \n",
    "# create a table of results with headers n, BubbleSort, MergeSort and QuickSort\n",
    "print(\"n       BubbleSort       MergeSort          QuickSort\")\n",
    "print(\"___________________________________________________________________________________\")\n",
    "# for every value for time enumerate to corresponding value for n\n",
    "for i, cur_n in enumerate(n):\n",
    "    # print running times to 3 decimal places\n",
    "    print(\"%d   \\t%0.3f   \\t%0.3f   \\t%0.3f\"%(cur_n, bubbleTimes[i], mergeTimes[i], quickTimes[i]))\n",
    "    \n",
    "# import graphing library\n",
    "import matplotlib.pyplot as plt\n",
    "# jupyter magic command for matplotlib\n",
    "%matplotlib inline\n",
    "\n",
    "# plot runtime for each algorithm and input value\n",
    "plt.plot(n, bubbleTimes, 'bo', label=\"Bubble Sort\")\n",
    "\n",
    "# create legend, y label, x label and show the graph\n",
    "plt.legend(loc='upper center', shadow=True).get_frame().set_facecolor('0.90')\n",
    "plt.ylabel('average runtime in milliseconds')\n",
    "plt.xlabel('n - size of input')\n",
    "plt.show()\n",
    "\n",
    "plt.plot(n, mergeTimes, 'bo', label=\"Merge Sort\")\n",
    "\n",
    "# create legend, y label, x label and show the graph\n",
    "plt.legend(loc='upper center', shadow=True).get_frame().set_facecolor('0.90')\n",
    "plt.ylabel('average runtime in milliseconds')\n",
    "plt.xlabel('n - size of input')\n",
    "plt.show()\n",
    "\n",
    "plt.plot(n, quickTimes, 'bo', label=\"QuickSort\")\n",
    "\n",
    "# create legend, y label, x label and show the graph\n",
    "plt.legend(loc='upper center', shadow=True).get_frame().set_facecolor('0.90')\n",
    "plt.ylabel('average runtime in milliseconds')\n",
    "plt.xlabel('n - size of input')\n",
    "plt.show()"
   ]
  },
  {
   "cell_type": "markdown",
   "metadata": {},
   "source": [
    "As well as the size n of the input, the actual order of the input data, can also influence the running time of the sorting algorithm. In the example above, where the input elements are in a random order, demonstrates an Average case time complexity – the algorithm exhibits its average running time."
   ]
  },
  {
   "cell_type": "markdown",
   "metadata": {},
   "source": [
    "\n",
    "\n",
    "\n"
   ]
  },
  {
   "cell_type": "markdown",
   "metadata": {},
   "source": [
    "### References\n",
    "\n",
    "https://en.wikipedia.org/wiki/Quicksort\n",
    "\n",
    "https://en.wikipedia.org/wiki/Bubble_sort\n",
    "\n",
    "https://en.wikipedia.org/wiki/Merge_sort"
   ]
  },
  {
   "cell_type": "code",
   "execution_count": null,
   "metadata": {},
   "outputs": [],
   "source": []
  }
 ],
 "metadata": {
  "kernelspec": {
   "display_name": "Python 3",
   "language": "python",
   "name": "python3"
  },
  "language_info": {
   "codemirror_mode": {
    "name": "ipython",
    "version": 3
   },
   "file_extension": ".py",
   "mimetype": "text/x-python",
   "name": "python",
   "nbconvert_exporter": "python",
   "pygments_lexer": "ipython3",
   "version": "3.7.4"
  }
 },
 "nbformat": 4,
 "nbformat_minor": 2
}
