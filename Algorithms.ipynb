{
 "cells": [
  {
   "cell_type": "markdown",
   "metadata": {},
   "source": [
    "## Algorithms Assignment"
   ]
  },
  {
   "cell_type": "markdown",
   "metadata": {},
   "source": [
    "### Import Libraries"
   ]
  },
  {
   "cell_type": "code",
   "execution_count": 2,
   "metadata": {},
   "outputs": [],
   "source": [
    "# import libraries to generate random data\n",
    "import numpy as np\n",
    "from random import randint\n",
    "# import plotting library to create graphs\n",
    "import matplotlib.pyplot as plt\n",
    "# import time module to record the running time of the algorithms\n",
    "import time"
   ]
  },
  {
   "cell_type": "markdown",
   "metadata": {},
   "source": [
    "### Question 1"
   ]
  },
  {
   "cell_type": "markdown",
   "metadata": {},
   "source": [
    "### Bubble Sort"
   ]
  },
  {
   "cell_type": "code",
   "execution_count": 3,
   "metadata": {},
   "outputs": [
    {
     "name": "stdout",
     "output_type": "stream",
     "text": [
      "[16, 19, 25, 30, 43, 53, 54, 66, 90]\n",
      "0.998\n"
     ]
    }
   ],
   "source": [
    "# log start time\n",
    "start = time.time()\n",
    "\n",
    "# define a bubbleSort function with arguement a\n",
    "def bubbleSort(a):\n",
    "    # create outer loop where len(a) is number of items in the list\n",
    "    for i in range(0, len(a) -1):\n",
    "        # create inner loop where len(a) is number of items in the list\n",
    "        for j in range(0, len(a) -1 -i):\n",
    "            # compare item with item on its right - if item on left is greater then swap\n",
    "            if a[j]>a[j+1]:\n",
    "                a[j], a[j+1] = a[j+1], a[j]\n",
    "    return a\n",
    "                    \n",
    "                \n",
    "# create an array of integers\n",
    "a =[53, 25, 90, 16, 66, 30, 43, 54, 19]\n",
    "\n",
    "# call the bubbleSort function with list of integers\n",
    "bubbleSort(a)\n",
    "    \n",
    "# print sorted array of integers\n",
    "print(a)\n",
    "\n",
    "# end time\n",
    "end = time.time()\n",
    "\n",
    "# time elapsed in milliseconds and formatted to 3 decimal places (end time minus start time)\n",
    "timeElapsed = format((end - start)*1000, '.3f')\n",
    "\n",
    "# print elapsed time\n",
    "print(timeElapsed)"
   ]
  },
  {
   "cell_type": "markdown",
   "metadata": {},
   "source": [
    "### Merge Sort"
   ]
  },
  {
   "cell_type": "code",
   "execution_count": 5,
   "metadata": {},
   "outputs": [
    {
     "name": "stdout",
     "output_type": "stream",
     "text": [
      "[16, 19, 25, 30, 43, 53, 54, 66, 90]\n",
      "1.000\n"
     ]
    }
   ],
   "source": [
    "# start time\n",
    "start = time.time()\n",
    "\n",
    "# define mergeSort function with arguement a\n",
    "def mergeSort(a):\n",
    "    # if the length of the array is greater than 1 split the array into two halves\n",
    "    if len(a)>1:\n",
    "        # find the mid point of the array\n",
    "        mid = len(a)//2\n",
    "        # divide the array elements into two halves\n",
    "        lefthalf = a[:mid]\n",
    "        righthalf = a[mid:]\n",
    "        # sort both arrays using mergeSort\n",
    "        mergeSort(lefthalf)\n",
    "        mergeSort(righthalf)\n",
    "\n",
    "        i=0\n",
    "        j=0\n",
    "        k=0\n",
    "        # copy data to temporary arrays\n",
    "        while i < len(lefthalf) and j < len(righthalf):\n",
    "            if lefthalf[i] < righthalf[j]:\n",
    "                a[k]=lefthalf[i]\n",
    "                i=i+1\n",
    "            else:\n",
    "                a[k]=righthalf[j]\n",
    "                j=j+1\n",
    "            k=k+1\n",
    "        # check if any elements left in arrays\n",
    "        while i < len(lefthalf):\n",
    "            a[k]=lefthalf[i]\n",
    "            i=i+1\n",
    "            k=k+1\n",
    "\n",
    "        while j < len(righthalf):\n",
    "            a[k]=righthalf[j]\n",
    "            j=j+1\n",
    "            k=k+1\n",
    "\n",
    "# create an array of integers        \n",
    "a =[53, 25, 90, 16, 66, 30, 43, 54, 19]\n",
    "\n",
    "# call the mergeSort function with a random array of integers\n",
    "mergeSort(a)\n",
    "\n",
    "# print sorted array of integers\n",
    "print(a)\n",
    "\n",
    "# end time\n",
    "end = time.time()\n",
    "\n",
    "# time elapsed in milliseconds and formatted to 3 decimal places (end time minus start time)\n",
    "timeElapsed = format((end - start)*1000, '.3f')\n",
    "\n",
    "# print elapsed time\n",
    "print(timeElapsed)"
   ]
  },
  {
   "cell_type": "markdown",
   "metadata": {},
   "source": [
    "### Quicksort"
   ]
  },
  {
   "cell_type": "code",
   "execution_count": 26,
   "metadata": {},
   "outputs": [
    {
     "name": "stdout",
     "output_type": "stream",
     "text": [
      "[53, 25, 90, 16, 66, 30, 43, 54, 19]\n",
      "1.001\n"
     ]
    }
   ],
   "source": [
    "# start time\n",
    "start = time.time()\n",
    "\n",
    "# define quicksort function with arguement a\n",
    "def quicksort(a):\n",
    "    if len(a) <= 1:\n",
    "        return a\n",
    "    (less,mid,more) = (list(),list(),list())\n",
    "    pivot = a[0]\n",
    "    mid.append(a[0])\n",
    "    for i in range(1,len(a)):\n",
    "        if a[i] == pivot:\n",
    "            mid.append(a[i])\n",
    "        elif a[i] < pivot:\n",
    "            less.append(a[i])\n",
    "        else:\n",
    "            more.append(a[i])\n",
    "    return quicksort(less) + mid + quicksort(more)\n",
    "\n",
    "# create a list of integers       \n",
    "a =[53, 25, 90, 16, 66, 30, 43, 54, 19]\n",
    "\n",
    "# call the quicksort function with list of integers\n",
    "quicksort(a)\n",
    "\n",
    "# print sorted list of integers\n",
    "print(a)\n",
    "\n",
    "# end time\n",
    "end = time.time()\n",
    "\n",
    "# time elapsed in milliseconds and formatted to 3 decimal places (end time minus start time)\n",
    "timeElapsed = format((end - start)*1000, '.3f')\n",
    "\n",
    "# print elapsed time\n",
    "print(timeElapsed)"
   ]
  },
  {
   "cell_type": "code",
   "execution_count": null,
   "metadata": {},
   "outputs": [],
   "source": []
  },
  {
   "cell_type": "code",
   "execution_count": null,
   "metadata": {},
   "outputs": [],
   "source": []
  }
 ],
 "metadata": {
  "kernelspec": {
   "display_name": "Python 3",
   "language": "python",
   "name": "python3"
  },
  "language_info": {
   "codemirror_mode": {
    "name": "ipython",
    "version": 3
   },
   "file_extension": ".py",
   "mimetype": "text/x-python",
   "name": "python",
   "nbconvert_exporter": "python",
   "pygments_lexer": "ipython3",
   "version": "3.7.4"
  }
 },
 "nbformat": 4,
 "nbformat_minor": 2
}
